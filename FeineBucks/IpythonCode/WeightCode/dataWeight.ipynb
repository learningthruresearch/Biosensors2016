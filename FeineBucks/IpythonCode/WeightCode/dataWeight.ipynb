{
 "cells": [
  {
   "cell_type": "code",
   "execution_count": 41,
   "metadata": {
    "collapsed": true
   },
   "outputs": [],
   "source": [
    "    #Import libraries\n",
    "import numpy as np\n",
    "import pylab as plt\n",
    "from __future__ import division\n",
    "    #The files must be in the same folder as the python code"
   ]
  },
  {
   "cell_type": "code",
   "execution_count": 42,
   "metadata": {
    "collapsed": false
   },
   "outputs": [],
   "source": [
    "    #Prepare the file for the weight of the seeds\n",
    "concentration = np.loadtxt('concentration.txt')\n",
    "    #Load the data of weight of the seedlings\n",
    "weight = np.loadtxt('weight.tsv')\n",
    "    #Calcul the averages of each concentration for each replicates\n",
    "    #First replicate\n",
    "weightR1C1 = np.mean(weight[:,0])\n",
    "weightR1C2 = np.mean(weight[:,1])\n",
    "weightR1C3 = np.mean(weight[:,2])\n",
    "weightR1C4 = np.mean(weight[:,3])\n",
    "weightR1C5 = np.mean(weight[:,4])\n",
    "    #Second replicate\n",
    "weightR2C1 = np.mean(weight[:,5])\n",
    "weightR2C2 = np.mean(weight[:,6])\n",
    "weightR2C3 = np.mean(weight[:,7])\n",
    "weightR2C4 = np.mean(weight[:,8])\n",
    "weightR2C5 = np.mean(weight[:,9])\n",
    "    #Third replicate\n",
    "weightR3C1 = np.mean(weight[:,10])\n",
    "weightR3C2 = np.mean(weight[:,11])\n",
    "weightR3C3 = np.mean(weight[:,12])\n",
    "weightR3C4 = np.mean(weight[:,13])\n",
    "weightR3C5 = np.mean(weight[:,14])\n",
    "    #Fourth replicate\n",
    "weightR4C1 = np.mean(weight[:,15])\n",
    "weightR4C2 = np.mean(weight[:,16])\n",
    "weightR4C3 = np.mean(weight[:,17])\n",
    "weightR4C4 = np.mean(weight[:,18])\n",
    "weightR4C5 = np.mean(weight[:,19])\n",
    "    #Fifth replicate\n",
    "weightR5C1 = np.mean(weight[:,20])\n",
    "weightR5C2 = np.mean(weight[:,21])\n",
    "weightR5C3 = np.mean(weight[:,22])\n",
    "weightR5C4 = np.mean(weight[:,23])\n",
    "weightR5C5 = np.mean(weight[:,24])\n",
    "    #Calcul the averages for each concentration\n",
    "C1 = [weightR1C1,weightR2C1,weightR3C1,weightR4C1,weightR5C1]\n",
    "C2 = [weightR1C2,weightR2C2,weightR3C2,weightR4C2,weightR5C2]\n",
    "C3 = [weightR1C3,weightR2C3,weightR3C3,weightR4C3,weightR5C3]\n",
    "C4 = [weightR1C4,weightR2C4,weightR3C4,weightR4C4,weightR5C4]\n",
    "C5 = [weightR1C5,weightR2C5,weightR3C5,weightR4C5,weightR5C5]\n",
    "concentraion1 = np.mean(C1)\n",
    "concentraion2 = np.mean(C2)\n",
    "concentraion3 = np.mean(C3)\n",
    "concentraion4 = np.mean(C4)\n",
    "concentraion5 = np.mean(C5)\n",
    "    #Liste of all weight mean\n",
    "weightseeds = []\n",
    "weightseeds.append(concentraion1)\n",
    "weightseeds.append(concentraion2)\n",
    "weightseeds.append(concentraion3)\n",
    "weightseeds.append(concentraion4)\n",
    "weightseeds.append(concentraion5)"
   ]
  },
  {
   "cell_type": "code",
   "execution_count": 43,
   "metadata": {
    "collapsed": false
   },
   "outputs": [],
   "source": [
    "    #Calcul the standard deviation\n",
    "Co1 = [weight[:,0],weight[:,5],weight[:,10],weight[:,15],weight[:,20]]\n",
    "Co2 = [weight[:,1],weight[:,6],weight[:,11],weight[:,16],weight[:,21]]\n",
    "Co3 = [weight[:,2],weight[:,7],weight[:,12],weight[:,17],weight[:,22]]\n",
    "Co4 = [weight[:,3],weight[:,8],weight[:,13],weight[:,18],weight[:,23]]\n",
    "Co5 = [weight[:,4],weight[:,9],weight[:,14],weight[:,19],weight[:,24]]\n",
    "weightErrorBar = []\n",
    "weightErrorBar.append(np.std(Co1))\n",
    "weightErrorBar.append(np.std(Co2))\n",
    "weightErrorBar.append(np.std(Co3))\n",
    "weightErrorBar.append(np.std(Co4))\n",
    "weightErrorBar.append(np.std(Co5))"
   ]
  },
  {
   "cell_type": "code",
   "execution_count": 48,
   "metadata": {
    "collapsed": false
   },
   "outputs": [],
   "source": [
    "    #Define the plot\n",
    "plt.plot(concentration, weightseeds, color='r', label = \"Seeds' weight Day1\")\n",
    "    #Print the standard deviation\n",
    "plt.errorbar(concentration, weightseeds, yerr=weightErrorBar, color='r')\n",
    "    #Define the label for each axes\n",
    "plt.ylabel(\"Seeds' weight (mg)\")\n",
    "plt.xlabel('Concentration of caffeine added (mg/mL)')\n",
    "plt.xlim(-0.1,5.5)\n",
    "    #Define the position of the legend\n",
    "plt.legend(loc ='upper right')\n",
    "    #Active the grid for the graph\n",
    "plt.grid(True)\n",
    "    #Define the title of the graph\n",
    "plt.title(\"Seeds' weight in function of concentration of caffeine added (mg/mL)\")\n",
    "    #Allow to save the graph\n",
    "plt.savefig('weight.png')\n",
    "plt.show()"
   ]
  },
  {
   "cell_type": "code",
   "execution_count": null,
   "metadata": {
    "collapsed": true
   },
   "outputs": [],
   "source": []
  }
 ],
 "metadata": {
  "kernelspec": {
   "display_name": "Python 2",
   "language": "python",
   "name": "python2"
  },
  "language_info": {
   "codemirror_mode": {
    "name": "ipython",
    "version": 2
   },
   "file_extension": ".py",
   "mimetype": "text/x-python",
   "name": "python",
   "nbconvert_exporter": "python",
   "pygments_lexer": "ipython2",
   "version": "2.7.10"
  }
 },
 "nbformat": 4,
 "nbformat_minor": 0
}
