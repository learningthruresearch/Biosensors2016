{
 "cells": [
  {
   "cell_type": "code",
   "execution_count": 6,
   "metadata": {
    "collapsed": true
   },
   "outputs": [],
   "source": [
    "    #Import libraries\n",
    "import numpy as np\n",
    "import pylab as plt\n",
    "from __future__ import division\n",
    "    #The files must be in the same folder as the python code"
   ]
  },
  {
   "cell_type": "code",
   "execution_count": 9,
   "metadata": {
    "collapsed": false
   },
   "outputs": [
    {
     "name": "stdout",
     "output_type": "stream",
     "text": [
      "[ 1.89  0.9   0.98  0.22  0.  ]\n"
     ]
    }
   ],
   "source": [
    "    #Load the different concentration of caffeine\n",
    "concentration = np.loadtxt('concentration.txt')\n",
    "    #Load the data of the mean size of the seedlings\n",
    "size = np.loadtxt('sizeMean.tsv')\n",
    "    #Load the data of the standard deviatio size of the seedlings\n",
    "errorBarSize = np.loadtxt('sizeSDT.tsv')"
   ]
  },
  {
   "cell_type": "code",
   "execution_count": 11,
   "metadata": {
    "collapsed": false
   },
   "outputs": [],
   "source": [
    "    #Define the plot\n",
    "plt.plot(concentration, size, color='r', label = \"Seedlings' Size Day2\")\n",
    "    #Print the standard deviation\n",
    "plt.errorbar(concentration, size, yerr=errorBarSize, color='r')\n",
    "    #Define the label for each axes\n",
    "plt.ylabel('Seedlings size (mm)')\n",
    "plt.xlabel('Concentration of caffeine added (mg/mL)')\n",
    "plt.xlim(-0.5,5.5)\n",
    "    #Define the position of the legend\n",
    "plt.legend(loc ='upper left')\n",
    "    #Active the grid for the graph\n",
    "plt.grid(True)\n",
    "    #Define the title of the graph\n",
    "plt.title('Seedlings size in function of concentration of caffeine added (mg/mL)')\n",
    "    #Allow to save the graph\n",
    "plt.savefig('size.png')\n",
    "plt.show()"
   ]
  },
  {
   "cell_type": "code",
   "execution_count": null,
   "metadata": {
    "collapsed": true
   },
   "outputs": [],
   "source": []
  }
 ],
 "metadata": {
  "kernelspec": {
   "display_name": "Python 2",
   "language": "python",
   "name": "python2"
  },
  "language_info": {
   "codemirror_mode": {
    "name": "ipython",
    "version": 2
   },
   "file_extension": ".py",
   "mimetype": "text/x-python",
   "name": "python",
   "nbconvert_exporter": "python",
   "pygments_lexer": "ipython2",
   "version": "2.7.10"
  }
 },
 "nbformat": 4,
 "nbformat_minor": 0
}
