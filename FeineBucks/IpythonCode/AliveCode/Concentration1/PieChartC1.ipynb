{
 "cells": [
  {
   "cell_type": "code",
   "execution_count": 2,
   "metadata": {
    "collapsed": true
   },
   "outputs": [],
   "source": [
    "from pylab import *"
   ]
  },
  {
   "cell_type": "code",
   "execution_count": 9,
   "metadata": {
    "collapsed": false
   },
   "outputs": [],
   "source": [
    "#This make a square figure and axes to have the pie chart at the right position\n",
    "figure(1, figsize=(6,6))\n",
    "ax = axes([0.1, 0.1, 0.8, 0.8])\n",
    "\n",
    "#The slices will be ordered and plotted counter-clockwise\n",
    "labels = 'Open', \"Didn't grow\", 'Dead'\n",
    "fracs = [81, 0, 19] #It is the proportion of each labels of the chart\n",
    "colors = [(0, 0.8, 0), (0, 0.5, 0), (0, 0.2, 0)] #Define the colors for the fractions\n",
    "\n",
    "pie(fracs, labels=labels, colors=colors, autopct='%1.1f%%', startangle=90) #Create the chart\n",
    "title('At 0gm/mL', bbox={'facecolor':'0.9', 'pad':5}) #Define the title of the chart\n",
    "savefig('aliveAndDeadC1.png') #Save the plot\n",
    "show() #Show the chart"
   ]
  },
  {
   "cell_type": "code",
   "execution_count": null,
   "metadata": {
    "collapsed": true
   },
   "outputs": [],
   "source": []
  }
 ],
 "metadata": {
  "kernelspec": {
   "display_name": "Python 2",
   "language": "python",
   "name": "python2"
  },
  "language_info": {
   "codemirror_mode": {
    "name": "ipython",
    "version": 2
   },
   "file_extension": ".py",
   "mimetype": "text/x-python",
   "name": "python",
   "nbconvert_exporter": "python",
   "pygments_lexer": "ipython2",
   "version": "2.7.10"
  }
 },
 "nbformat": 4,
 "nbformat_minor": 0
}
