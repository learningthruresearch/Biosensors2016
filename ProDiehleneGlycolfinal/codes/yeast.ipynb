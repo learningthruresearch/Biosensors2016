{
 "cells": [
  {
   "cell_type": "code",
   "execution_count": 37,
   "metadata": {
    "collapsed": true
   },
   "outputs": [],
   "source": [
    "import numpy as np\n",
    "import matplotlib.pyplot as plt"
   ]
  },
  {
   "cell_type": "code",
   "execution_count": 190,
   "metadata": {
    "collapsed": false
   },
   "outputs": [],
   "source": [
    "f = open('datayeasts.txt')\n",
    "\n",
    "biglist, new_list = [], []\n",
    "\n",
    "for line in f:\n",
    "    words = line.split()\n",
    "    if len(words[0]) < 4:\n",
    "        biglist.append(words[1:])\n",
    "\n",
    "for i in range(len(biglist)):\n",
    "    new_list.append([])\n",
    "    for j in range(len(biglist[i])):\n",
    "        new_list[-1].append(float(biglist[i][j]))\n"
   ]
  },
  {
   "cell_type": "code",
   "execution_count": 235,
   "metadata": {
    "collapsed": false
   },
   "outputs": [],
   "source": [
    "liste_finale = []\n",
    "    \n",
    "for i in range(2):\n",
    "    liste_finale.append([])\n",
    "    for j in range(0,12,2):\n",
    "        liste_finale[-1].append([])\n",
    "        for k in range(0,len(new_list)-36,12):\n",
    "            liste_finale[-1][-1].append(new_list[i+j+k+24])\n",
    "            \n",
    "\n",
    "x = range(len(liste_finale[0][0][0]))\n",
    "x = np.array(x)\n",
    "x *= 30"
   ]
  },
  {
   "cell_type": "code",
   "execution_count": 198,
   "metadata": {
    "collapsed": false
   },
   "outputs": [
    {
     "data": {
      "text/plain": [
       "[0.066600002,\n",
       " 0.067100003,\n",
       " 0.067400001,\n",
       " 0.067699999,\n",
       " 0.068099998,\n",
       " 0.068099998,\n",
       " 0.068899997,\n",
       " 0.068300001,\n",
       " 0.0682,\n",
       " 0.068599999,\n",
       " 0.068899997,\n",
       " 0.068899997,\n",
       " 0.068899997,\n",
       " 0.0691,\n",
       " 0.069200002,\n",
       " 0.068899997,\n",
       " 0.069200002,\n",
       " 0.0682,\n",
       " 0.067699999,\n",
       " 0.069200002,\n",
       " 0.069499999,\n",
       " 0.068800002,\n",
       " 0.068800002,\n",
       " 0.068800002,\n",
       " 0.068400003,\n",
       " 0.068400003,\n",
       " 0.068300001,\n",
       " 0.068599999,\n",
       " 0.0682]"
      ]
     },
     "execution_count": 198,
     "metadata": {},
     "output_type": "execute_result"
    }
   ],
   "source": [
    "liste_finale[0][0].pop(4)\n",
    "liste_finale[0][0].pop(3)\n",
    "\n",
    "liste_finale[0][1].pop(2)\n",
    "liste_finale[0][1].pop(1)\n",
    "liste_finale[0][1].pop(0)\n",
    "\n",
    "liste_finale[0][2].pop(3)\n",
    "liste_finale[0][2].pop(0)\n",
    "\n",
    "liste_finale[0][3].pop(2)\n",
    "\n",
    "\n",
    "liste_finale[1][0].pop(1)\n",
    "\n",
    "liste_finale[1][1].pop(1)\n",
    "\n",
    "liste_finale[1][2].pop(4)\n",
    "liste_finale[1][2].pop(2)\n",
    "liste_finale[1][2].pop(0)\n",
    "\n",
    "liste_finale[1][3].pop(3)\n",
    "liste_finale[1][3].pop(0)\n",
    "\n",
    "liste_finale[1][4].pop(0)\n",
    "\n",
    "liste_finale[1][5].pop(4)\n",
    "liste_finale[1][5].pop(0)\n",
    "\n"
   ]
  },
  {
   "cell_type": "markdown",
   "metadata": {},
   "source": [
    "\n"
   ]
  },
  {
   "cell_type": "code",
   "execution_count": 188,
   "metadata": {
    "collapsed": false
   },
   "outputs": [],
   "source": [
    "plt.plot(x,liste_finale[0][1][0])\n",
    "plt.plot(x,liste_finale[0][1][1])\n",
    "plt.plot(x,liste_finale[0][1][2])\n",
    "plt.plot(x,liste_finale[0][1][3])\n",
    "plt.plot(x,liste_finale[0][1][4])\n",
    "plt.yscale('log')\n",
    "plt.ylim(0.001, 0.1)\n",
    "plt.show()"
   ]
  },
  {
   "cell_type": "code",
   "execution_count": 199,
   "metadata": {
    "collapsed": false
   },
   "outputs": [],
   "source": [
    "\n",
    "\n",
    "for i in range(len(liste_finale)):\n",
    "    liste_finale[i] = np.array(liste_finale[i])\n",
    "    for j in range(len(liste_finale[i])):\n",
    "        liste_finale[i][j] = np.array(liste_finale[i][j])\n",
    "        for k in range(len(liste_finale[i][j])): \n",
    "            liste_finale[i][j][k] = np.array(liste_finale[i][j][k])\n",
    "            liste_finale[i][j][k] -= liste_finale[i][j][k][0]"
   ]
  },
  {
   "cell_type": "code",
   "execution_count": 200,
   "metadata": {
    "collapsed": false
   },
   "outputs": [],
   "source": [
    "d = [[] for i in range(len(liste_finale[0][0][0]))]\n",
    "e = [[] for j in range(len(liste_finale))]\n",
    "for i in range(len(liste_finale)):\n",
    "    for j in range(len(liste_finale[i])):\n",
    "        for k in range(len(liste_finale[i][j])):\n",
    "            for l in range(len(liste_finale[i][j][k])):\n",
    "                d[l].append(liste_finale[i][j][k][l])\n",
    "        d = np.array(d)  \n",
    "        e[i].append(d)\n",
    "        d = [[] for i in range(len(liste_finale[0][0][0]))]    "
   ]
  },
  {
   "cell_type": "code",
   "execution_count": 245,
   "metadata": {
    "collapsed": false
   },
   "outputs": [
    {
     "name": "stdout",
     "output_type": "stream",
     "text": [
      "6.696159134127633e-05\n",
      "7.281212757397284e-05\n",
      "0.00011271636767439257\n",
      "0.0001548881928706707\n",
      "0.0002040697479986009\n",
      "0.00016487026937678814\n",
      "0.0001851181788402112\n",
      "0.00020553157338456805\n",
      "0.000280577298974719\n",
      "0.0001394759892504787\n",
      "0.00028433352592911374\n",
      "0.00013104317793072366\n"
     ]
    }
   ],
   "source": [
    "slope = [[1.5,2.5,2.5,2.5,2.5,2.5],[1.5,1.5,1.5,1.5,1,1]]\n",
    "leglist = ['0 mg/kg', '1/16 LD50', '1/8 LD50', '1/4 LD50', '1/2 LD50','LD50']\n",
    "titlelist = [\"Optical density in function of Time - ALA1\",\"Optical density in function of Time - ALA2\"]\n",
    "from scipy import interpolate\n",
    "a = []\n",
    "b = []\n",
    "error = []\n",
    "for i in range(len(e)):\n",
    "    for j in range(len(e[i])):\n",
    "        for k in range(len(e[i][j])):\n",
    "            a.append(np.mean(e[i][j][k]))\n",
    "            error.append(np.std(e[i][j][k]))\n",
    "        plt.yscale('log')\n",
    "        plt.errorbar(x, a, yerr=error, ecolor='k', color='w')\n",
    "        \n",
    "        f = interpolate.interp1d(x,a, kind='cubic')\n",
    "        xi = np.linspace(np.amin(x), np.amax(x), 300)\n",
    "        plt.title(titlelist[i], fontsize = 22)\n",
    "        plt.xlabel(\"time [min]\",fontsize = 22)\n",
    "        plt.ylabel(\"Optical density\",fontsize = 22)\n",
    "        plt.plot(xi, f(xi),label=leglist[j])\n",
    "        plt.legend(fontsize = 14,  loc = 4)\n",
    "        plt.ylim(0.001,0.1)\n",
    "        print(f(slope[i][j]))\n",
    "        a = []\n",
    "        error = []\n",
    "    plt.show()"
   ]
  },
  {
   "cell_type": "code",
   "execution_count": null,
   "metadata": {
    "collapsed": true
   },
   "outputs": [],
   "source": []
  },
  {
   "cell_type": "code",
   "execution_count": null,
   "metadata": {
    "collapsed": true
   },
   "outputs": [],
   "source": []
  }
 ],
 "metadata": {
  "kernelspec": {
   "display_name": "Python 3",
   "language": "python",
   "name": "python3"
  },
  "language_info": {
   "codemirror_mode": {
    "name": "ipython",
    "version": 3
   },
   "file_extension": ".py",
   "mimetype": "text/x-python",
   "name": "python",
   "nbconvert_exporter": "python",
   "pygments_lexer": "ipython3",
   "version": "3.5.1"
  }
 },
 "nbformat": 4,
 "nbformat_minor": 0
}
